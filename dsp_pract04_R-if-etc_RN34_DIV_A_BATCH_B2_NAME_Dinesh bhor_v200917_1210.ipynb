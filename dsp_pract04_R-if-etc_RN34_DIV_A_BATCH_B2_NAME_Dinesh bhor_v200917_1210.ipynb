{
 "cells": [
  {
   "cell_type": "markdown",
   "metadata": {},
   "source": [
    "# Practical 4: R braching, looping, functions, pipes, file io etc"
   ]
  },
  {
   "cell_type": "markdown",
   "metadata": {},
   "source": [
    "## Instructions:"
   ]
  },
  {
   "cell_type": "markdown",
   "metadata": {},
   "source": [
    "- Complete this practical in any manner you want\n",
    "- Rename the file as usual\n",
    "- Upload"
   ]
  },
  {
   "cell_type": "markdown",
   "metadata": {},
   "source": [
    "# Name: Dinesh Bhor\n",
    "# Div: ME_A\n",
    "# Roll no: 34\n",
    "# Batch: B2\n",
    "# GR No: 11910407"
   ]
  },
  {
   "cell_type": "markdown",
   "metadata": {},
   "source": [
    "## Enter your information\n",
    "**Imp: Run the code cell below, after entering your information as explained there**"
   ]
  },
  {
   "cell_type": "code",
   "execution_count": 1,
   "metadata": {},
   "outputs": [
    {
     "data": {
      "text/html": [
       "'My Roll Number is: 34'"
      ],
      "text/latex": [
       "'My Roll Number is: 34'"
      ],
      "text/markdown": [
       "'My Roll Number is: 34'"
      ],
      "text/plain": [
       "[1] \"My Roll Number is: 34\""
      ]
     },
     "metadata": {},
     "output_type": "display_data"
    },
    {
     "data": {
      "text/html": [
       "<span style=white-space:pre-wrap>'My GR Number is  : 11910407'</span>"
      ],
      "text/latex": [
       "'My GR Number is  : 11910407'"
      ],
      "text/markdown": [
       "<span style=white-space:pre-wrap>'My GR Number is  : 11910407'</span>"
      ],
      "text/plain": [
       "[1] \"My GR Number is  : 11910407\""
      ]
     },
     "metadata": {},
     "output_type": "display_data"
    },
    {
     "data": {
      "text/html": [
       "<span style=white-space:pre-wrap>'Name is  : Dinesh Bhor'</span>"
      ],
      "text/latex": [
       "'Name is  : Dinesh Bhor'"
      ],
      "text/markdown": [
       "<span style=white-space:pre-wrap>'Name is  : Dinesh Bhor'</span>"
      ],
      "text/plain": [
       "[1] \"Name is  : Dinesh Bhor\""
      ]
     },
     "metadata": {},
     "output_type": "display_data"
    }
   ],
   "source": [
    "# VVIMP: Fill up & Run this code cell first before starting with later cells\n",
    "# -------------------------------\n",
    "# Start of: Write your code here\n",
    "# -------------------------------\n",
    "# Enter your roll number, gr no & name below\n",
    "# Do not change variable names\n",
    "rn <- 34\n",
    "grn <- 11910407\n",
    "my_name <- \"Dinesh Bhor\"\n",
    "# -------------------------------\n",
    "# End of: Write your code here\n",
    "# -------------------------------\n",
    "sprintf(\"My Roll Number is: %s\", rn)\n",
    "sprintf(\"My GR Number is  : %s\", grn)\n",
    "sprintf(\"Name is  : %s\", my_name)"
   ]
  },
  {
   "cell_type": "markdown",
   "metadata": {},
   "source": [
    "## Branching"
   ]
  },
  {
   "cell_type": "code",
   "execution_count": 1,
   "metadata": {},
   "outputs": [
    {
     "data": {
      "text/html": [
       "' century...'"
      ],
      "text/latex": [
       "' century...'"
      ],
      "text/markdown": [
       "' century...'"
      ],
      "text/plain": [
       "[1] \" century...\""
      ]
     },
     "metadata": {},
     "output_type": "display_data"
    }
   ],
   "source": [
    "\n",
    "x <- 100\n",
    "if(x == 100){\n",
    "    sprintf(\" century...\")\n",
    "}else if (x<100){\n",
    "    sprintf(\"less than century\")\n",
    "}else {\n",
    "    sprintf(\"Let's score more....\")\n",
    "}"
   ]
  },
  {
   "cell_type": "markdown",
   "metadata": {},
   "source": [
    "## Looping"
   ]
  },
  {
   "cell_type": "code",
   "execution_count": 2,
   "metadata": {},
   "outputs": [
    {
     "name": "stdout",
     "output_type": "stream",
     "text": [
      "1 2 3 4 5 6 7 8 9 10 11 12 13 14 15 16 17 18 19 20 21 22 23 24 25 26 27 28 29 30 31 32 33 34 35 36 37 38 39 40 41 42 43 44 45 46 47 48 49 50 51 52 53 54 55 56 57 58 59 60 61 62 63 64 65 66 67 68 69 70 71 72 73 74 75 76 77 78 79 80 81 82 83 84 85 86 87 88 89 90 91 92 93 94 95 96 97 98 99 "
     ]
    }
   ],
   "source": [
    "for (x in c(1:1000)) {\n",
    "    if (x<100){\n",
    "    \n",
    "        cat(paste(x,\"\"))\n",
    "    }\n",
    "    \n",
    "}"
   ]
  },
  {
   "cell_type": "markdown",
   "metadata": {},
   "source": [
    "## Functions"
   ]
  },
  {
   "cell_type": "code",
   "execution_count": 6,
   "metadata": {},
   "outputs": [
    {
     "name": "stdout",
     "output_type": "stream",
     "text": [
      "[1] 20\n"
     ]
    },
    {
     "data": {
      "text/html": [
       "'profit'"
      ],
      "text/latex": [
       "'profit'"
      ],
      "text/markdown": [
       "'profit'"
      ],
      "text/plain": [
       "[1] \"profit\""
      ]
     },
     "metadata": {},
     "output_type": "display_data"
    },
    {
     "name": "stdout",
     "output_type": "stream",
     "text": [
      "[1] 30\n"
     ]
    },
    {
     "data": {
      "text/html": [
       "'profit'"
      ],
      "text/latex": [
       "'profit'"
      ],
      "text/markdown": [
       "'profit'"
      ],
      "text/plain": [
       "[1] \"profit\""
      ]
     },
     "metadata": {},
     "output_type": "display_data"
    }
   ],
   "source": [
    "myf <- function(x,y){\n",
    "    (x-y)\n",
    "    if((x-y)>0){\n",
    "        print(x-y)\n",
    "        sprintf(\"profit\")\n",
    "    } else{\n",
    "         print(y-x)\n",
    "         sprintf(\"loss\")\n",
    "    }\n",
    "}\n",
    "myf(60,40)\n",
    "myf(70,40) "
   ]
  },
  {
   "cell_type": "markdown",
   "metadata": {},
   "source": [
    "## Pipes"
   ]
  },
  {
   "cell_type": "code",
   "execution_count": 7,
   "metadata": {},
   "outputs": [
    {
     "name": "stderr",
     "output_type": "stream",
     "text": [
      "Registered S3 methods overwritten by 'ggplot2':\n",
      "  method         from \n",
      "  [.quosures     rlang\n",
      "  c.quosures     rlang\n",
      "  print.quosures rlang\n",
      "Registered S3 method overwritten by 'rvest':\n",
      "  method            from\n",
      "  read_xml.response xml2\n",
      "-- Attaching packages --------------------------------------- tidyverse 1.2.1 --\n",
      "v ggplot2 3.1.1       v purrr   0.3.2  \n",
      "v tibble  2.1.1       v dplyr   0.8.0.1\n",
      "v tidyr   0.8.3       v stringr 1.4.0  \n",
      "v readr   1.3.1       v forcats 0.4.0  \n",
      "-- Conflicts ------------------------------------------ tidyverse_conflicts() --\n",
      "x dplyr::filter() masks stats::filter()\n",
      "x dplyr::lag()    masks stats::lag()\n"
     ]
    },
    {
     "data": {
      "text/html": [
       "<table>\n",
       "<thead><tr><th scope=col>manufacturer</th><th scope=col>model</th><th scope=col>displ</th><th scope=col>year</th><th scope=col>cyl</th><th scope=col>trans</th><th scope=col>drv</th><th scope=col>cty</th><th scope=col>hwy</th><th scope=col>fl</th><th scope=col>class</th></tr></thead>\n",
       "<tbody>\n",
       "\t<tr><td>ford           </td><td>expedition 2wd </td><td>4.6            </td><td>1999           </td><td>8              </td><td>auto(l4)       </td><td>r              </td><td>11             </td><td>17             </td><td>r              </td><td>suv            </td></tr>\n",
       "\t<tr><td>ford           </td><td>expedition 2wd </td><td>5.4            </td><td>1999           </td><td>8              </td><td>auto(l4)       </td><td>r              </td><td>11             </td><td>17             </td><td>r              </td><td>suv            </td></tr>\n",
       "\t<tr><td>ford           </td><td>expedition 2wd </td><td>5.4            </td><td>2008           </td><td>8              </td><td>auto(l6)       </td><td>r              </td><td>12             </td><td>18             </td><td>r              </td><td>suv            </td></tr>\n",
       "\t<tr><td>ford           </td><td>explorer 4wd   </td><td>4.0            </td><td>1999           </td><td>6              </td><td>auto(l5)       </td><td>4              </td><td>14             </td><td>17             </td><td>r              </td><td>suv            </td></tr>\n",
       "\t<tr><td>ford           </td><td>explorer 4wd   </td><td>4.0            </td><td>1999           </td><td>6              </td><td>manual(m5)     </td><td>4              </td><td>15             </td><td>19             </td><td>r              </td><td>suv            </td></tr>\n",
       "\t<tr><td>ford           </td><td>explorer 4wd   </td><td>4.0            </td><td>1999           </td><td>6              </td><td>auto(l5)       </td><td>4              </td><td>14             </td><td>17             </td><td>r              </td><td>suv            </td></tr>\n",
       "\t<tr><td>ford           </td><td>explorer 4wd   </td><td>4.0            </td><td>2008           </td><td>6              </td><td>auto(l5)       </td><td>4              </td><td>13             </td><td>19             </td><td>r              </td><td>suv            </td></tr>\n",
       "\t<tr><td>ford           </td><td>explorer 4wd   </td><td>4.6            </td><td>2008           </td><td>8              </td><td>auto(l6)       </td><td>4              </td><td>13             </td><td>19             </td><td>r              </td><td>suv            </td></tr>\n",
       "\t<tr><td>ford           </td><td>explorer 4wd   </td><td>5.0            </td><td>1999           </td><td>8              </td><td>auto(l4)       </td><td>4              </td><td>13             </td><td>17             </td><td>r              </td><td>suv            </td></tr>\n",
       "\t<tr><td>ford           </td><td>f150 pickup 4wd</td><td>4.2            </td><td>1999           </td><td>6              </td><td>auto(l4)       </td><td>4              </td><td>14             </td><td>17             </td><td>r              </td><td>pickup         </td></tr>\n",
       "\t<tr><td>ford           </td><td>f150 pickup 4wd</td><td>4.2            </td><td>1999           </td><td>6              </td><td>manual(m5)     </td><td>4              </td><td>14             </td><td>17             </td><td>r              </td><td>pickup         </td></tr>\n",
       "\t<tr><td>ford           </td><td>f150 pickup 4wd</td><td>4.6            </td><td>1999           </td><td>8              </td><td>manual(m5)     </td><td>4              </td><td>13             </td><td>16             </td><td>r              </td><td>pickup         </td></tr>\n",
       "\t<tr><td>ford           </td><td>f150 pickup 4wd</td><td>4.6            </td><td>1999           </td><td>8              </td><td>auto(l4)       </td><td>4              </td><td>13             </td><td>16             </td><td>r              </td><td>pickup         </td></tr>\n",
       "\t<tr><td>ford           </td><td>f150 pickup 4wd</td><td>4.6            </td><td>2008           </td><td>8              </td><td>auto(l4)       </td><td>4              </td><td>13             </td><td>17             </td><td>r              </td><td>pickup         </td></tr>\n",
       "\t<tr><td>ford           </td><td>f150 pickup 4wd</td><td>5.4            </td><td>1999           </td><td>8              </td><td>auto(l4)       </td><td>4              </td><td>11             </td><td>15             </td><td>r              </td><td>pickup         </td></tr>\n",
       "\t<tr><td>ford           </td><td>f150 pickup 4wd</td><td>5.4            </td><td>2008           </td><td>8              </td><td>auto(l4)       </td><td>4              </td><td>13             </td><td>17             </td><td>r              </td><td>pickup         </td></tr>\n",
       "\t<tr><td>ford           </td><td>mustang        </td><td>3.8            </td><td>1999           </td><td>6              </td><td>manual(m5)     </td><td>r              </td><td>18             </td><td>26             </td><td>r              </td><td>subcompact     </td></tr>\n",
       "\t<tr><td>ford           </td><td>mustang        </td><td>3.8            </td><td>1999           </td><td>6              </td><td>auto(l4)       </td><td>r              </td><td>18             </td><td>25             </td><td>r              </td><td>subcompact     </td></tr>\n",
       "\t<tr><td>ford           </td><td>mustang        </td><td>4.0            </td><td>2008           </td><td>6              </td><td>manual(m5)     </td><td>r              </td><td>17             </td><td>26             </td><td>r              </td><td>subcompact     </td></tr>\n",
       "\t<tr><td>ford           </td><td>mustang        </td><td>4.0            </td><td>2008           </td><td>6              </td><td>auto(l5)       </td><td>r              </td><td>16             </td><td>24             </td><td>r              </td><td>subcompact     </td></tr>\n",
       "\t<tr><td>ford           </td><td>mustang        </td><td>4.6            </td><td>1999           </td><td>8              </td><td>auto(l4)       </td><td>r              </td><td>15             </td><td>21             </td><td>r              </td><td>subcompact     </td></tr>\n",
       "\t<tr><td>ford           </td><td>mustang        </td><td>4.6            </td><td>1999           </td><td>8              </td><td>manual(m5)     </td><td>r              </td><td>15             </td><td>22             </td><td>r              </td><td>subcompact     </td></tr>\n",
       "\t<tr><td>ford           </td><td>mustang        </td><td>4.6            </td><td>2008           </td><td>8              </td><td>manual(m5)     </td><td>r              </td><td>15             </td><td>23             </td><td>r              </td><td>subcompact     </td></tr>\n",
       "\t<tr><td>ford           </td><td>mustang        </td><td>4.6            </td><td>2008           </td><td>8              </td><td>auto(l5)       </td><td>r              </td><td>15             </td><td>22             </td><td>r              </td><td>subcompact     </td></tr>\n",
       "\t<tr><td>ford           </td><td>mustang        </td><td>5.4            </td><td>2008           </td><td>8              </td><td>manual(m6)     </td><td>r              </td><td>14             </td><td>20             </td><td>p              </td><td>subcompact     </td></tr>\n",
       "</tbody>\n",
       "</table>\n"
      ],
      "text/latex": [
       "\\begin{tabular}{r|lllllllllll}\n",
       " manufacturer & model & displ & year & cyl & trans & drv & cty & hwy & fl & class\\\\\n",
       "\\hline\n",
       "\t ford            & expedition 2wd  & 4.6             & 1999            & 8               & auto(l4)        & r               & 11              & 17              & r               & suv            \\\\\n",
       "\t ford            & expedition 2wd  & 5.4             & 1999            & 8               & auto(l4)        & r               & 11              & 17              & r               & suv            \\\\\n",
       "\t ford            & expedition 2wd  & 5.4             & 2008            & 8               & auto(l6)        & r               & 12              & 18              & r               & suv            \\\\\n",
       "\t ford            & explorer 4wd    & 4.0             & 1999            & 6               & auto(l5)        & 4               & 14              & 17              & r               & suv            \\\\\n",
       "\t ford            & explorer 4wd    & 4.0             & 1999            & 6               & manual(m5)      & 4               & 15              & 19              & r               & suv            \\\\\n",
       "\t ford            & explorer 4wd    & 4.0             & 1999            & 6               & auto(l5)        & 4               & 14              & 17              & r               & suv            \\\\\n",
       "\t ford            & explorer 4wd    & 4.0             & 2008            & 6               & auto(l5)        & 4               & 13              & 19              & r               & suv            \\\\\n",
       "\t ford            & explorer 4wd    & 4.6             & 2008            & 8               & auto(l6)        & 4               & 13              & 19              & r               & suv            \\\\\n",
       "\t ford            & explorer 4wd    & 5.0             & 1999            & 8               & auto(l4)        & 4               & 13              & 17              & r               & suv            \\\\\n",
       "\t ford            & f150 pickup 4wd & 4.2             & 1999            & 6               & auto(l4)        & 4               & 14              & 17              & r               & pickup         \\\\\n",
       "\t ford            & f150 pickup 4wd & 4.2             & 1999            & 6               & manual(m5)      & 4               & 14              & 17              & r               & pickup         \\\\\n",
       "\t ford            & f150 pickup 4wd & 4.6             & 1999            & 8               & manual(m5)      & 4               & 13              & 16              & r               & pickup         \\\\\n",
       "\t ford            & f150 pickup 4wd & 4.6             & 1999            & 8               & auto(l4)        & 4               & 13              & 16              & r               & pickup         \\\\\n",
       "\t ford            & f150 pickup 4wd & 4.6             & 2008            & 8               & auto(l4)        & 4               & 13              & 17              & r               & pickup         \\\\\n",
       "\t ford            & f150 pickup 4wd & 5.4             & 1999            & 8               & auto(l4)        & 4               & 11              & 15              & r               & pickup         \\\\\n",
       "\t ford            & f150 pickup 4wd & 5.4             & 2008            & 8               & auto(l4)        & 4               & 13              & 17              & r               & pickup         \\\\\n",
       "\t ford            & mustang         & 3.8             & 1999            & 6               & manual(m5)      & r               & 18              & 26              & r               & subcompact     \\\\\n",
       "\t ford            & mustang         & 3.8             & 1999            & 6               & auto(l4)        & r               & 18              & 25              & r               & subcompact     \\\\\n",
       "\t ford            & mustang         & 4.0             & 2008            & 6               & manual(m5)      & r               & 17              & 26              & r               & subcompact     \\\\\n",
       "\t ford            & mustang         & 4.0             & 2008            & 6               & auto(l5)        & r               & 16              & 24              & r               & subcompact     \\\\\n",
       "\t ford            & mustang         & 4.6             & 1999            & 8               & auto(l4)        & r               & 15              & 21              & r               & subcompact     \\\\\n",
       "\t ford            & mustang         & 4.6             & 1999            & 8               & manual(m5)      & r               & 15              & 22              & r               & subcompact     \\\\\n",
       "\t ford            & mustang         & 4.6             & 2008            & 8               & manual(m5)      & r               & 15              & 23              & r               & subcompact     \\\\\n",
       "\t ford            & mustang         & 4.6             & 2008            & 8               & auto(l5)        & r               & 15              & 22              & r               & subcompact     \\\\\n",
       "\t ford            & mustang         & 5.4             & 2008            & 8               & manual(m6)      & r               & 14              & 20              & p               & subcompact     \\\\\n",
       "\\end{tabular}\n"
      ],
      "text/markdown": [
       "\n",
       "| manufacturer | model | displ | year | cyl | trans | drv | cty | hwy | fl | class |\n",
       "|---|---|---|---|---|---|---|---|---|---|---|\n",
       "| ford            | expedition 2wd  | 4.6             | 1999            | 8               | auto(l4)        | r               | 11              | 17              | r               | suv             |\n",
       "| ford            | expedition 2wd  | 5.4             | 1999            | 8               | auto(l4)        | r               | 11              | 17              | r               | suv             |\n",
       "| ford            | expedition 2wd  | 5.4             | 2008            | 8               | auto(l6)        | r               | 12              | 18              | r               | suv             |\n",
       "| ford            | explorer 4wd    | 4.0             | 1999            | 6               | auto(l5)        | 4               | 14              | 17              | r               | suv             |\n",
       "| ford            | explorer 4wd    | 4.0             | 1999            | 6               | manual(m5)      | 4               | 15              | 19              | r               | suv             |\n",
       "| ford            | explorer 4wd    | 4.0             | 1999            | 6               | auto(l5)        | 4               | 14              | 17              | r               | suv             |\n",
       "| ford            | explorer 4wd    | 4.0             | 2008            | 6               | auto(l5)        | 4               | 13              | 19              | r               | suv             |\n",
       "| ford            | explorer 4wd    | 4.6             | 2008            | 8               | auto(l6)        | 4               | 13              | 19              | r               | suv             |\n",
       "| ford            | explorer 4wd    | 5.0             | 1999            | 8               | auto(l4)        | 4               | 13              | 17              | r               | suv             |\n",
       "| ford            | f150 pickup 4wd | 4.2             | 1999            | 6               | auto(l4)        | 4               | 14              | 17              | r               | pickup          |\n",
       "| ford            | f150 pickup 4wd | 4.2             | 1999            | 6               | manual(m5)      | 4               | 14              | 17              | r               | pickup          |\n",
       "| ford            | f150 pickup 4wd | 4.6             | 1999            | 8               | manual(m5)      | 4               | 13              | 16              | r               | pickup          |\n",
       "| ford            | f150 pickup 4wd | 4.6             | 1999            | 8               | auto(l4)        | 4               | 13              | 16              | r               | pickup          |\n",
       "| ford            | f150 pickup 4wd | 4.6             | 2008            | 8               | auto(l4)        | 4               | 13              | 17              | r               | pickup          |\n",
       "| ford            | f150 pickup 4wd | 5.4             | 1999            | 8               | auto(l4)        | 4               | 11              | 15              | r               | pickup          |\n",
       "| ford            | f150 pickup 4wd | 5.4             | 2008            | 8               | auto(l4)        | 4               | 13              | 17              | r               | pickup          |\n",
       "| ford            | mustang         | 3.8             | 1999            | 6               | manual(m5)      | r               | 18              | 26              | r               | subcompact      |\n",
       "| ford            | mustang         | 3.8             | 1999            | 6               | auto(l4)        | r               | 18              | 25              | r               | subcompact      |\n",
       "| ford            | mustang         | 4.0             | 2008            | 6               | manual(m5)      | r               | 17              | 26              | r               | subcompact      |\n",
       "| ford            | mustang         | 4.0             | 2008            | 6               | auto(l5)        | r               | 16              | 24              | r               | subcompact      |\n",
       "| ford            | mustang         | 4.6             | 1999            | 8               | auto(l4)        | r               | 15              | 21              | r               | subcompact      |\n",
       "| ford            | mustang         | 4.6             | 1999            | 8               | manual(m5)      | r               | 15              | 22              | r               | subcompact      |\n",
       "| ford            | mustang         | 4.6             | 2008            | 8               | manual(m5)      | r               | 15              | 23              | r               | subcompact      |\n",
       "| ford            | mustang         | 4.6             | 2008            | 8               | auto(l5)        | r               | 15              | 22              | r               | subcompact      |\n",
       "| ford            | mustang         | 5.4             | 2008            | 8               | manual(m6)      | r               | 14              | 20              | p               | subcompact      |\n",
       "\n"
      ],
      "text/plain": [
       "   manufacturer model           displ year cyl trans      drv cty hwy fl\n",
       "1  ford         expedition 2wd  4.6   1999 8   auto(l4)   r   11  17  r \n",
       "2  ford         expedition 2wd  5.4   1999 8   auto(l4)   r   11  17  r \n",
       "3  ford         expedition 2wd  5.4   2008 8   auto(l6)   r   12  18  r \n",
       "4  ford         explorer 4wd    4.0   1999 6   auto(l5)   4   14  17  r \n",
       "5  ford         explorer 4wd    4.0   1999 6   manual(m5) 4   15  19  r \n",
       "6  ford         explorer 4wd    4.0   1999 6   auto(l5)   4   14  17  r \n",
       "7  ford         explorer 4wd    4.0   2008 6   auto(l5)   4   13  19  r \n",
       "8  ford         explorer 4wd    4.6   2008 8   auto(l6)   4   13  19  r \n",
       "9  ford         explorer 4wd    5.0   1999 8   auto(l4)   4   13  17  r \n",
       "10 ford         f150 pickup 4wd 4.2   1999 6   auto(l4)   4   14  17  r \n",
       "11 ford         f150 pickup 4wd 4.2   1999 6   manual(m5) 4   14  17  r \n",
       "12 ford         f150 pickup 4wd 4.6   1999 8   manual(m5) 4   13  16  r \n",
       "13 ford         f150 pickup 4wd 4.6   1999 8   auto(l4)   4   13  16  r \n",
       "14 ford         f150 pickup 4wd 4.6   2008 8   auto(l4)   4   13  17  r \n",
       "15 ford         f150 pickup 4wd 5.4   1999 8   auto(l4)   4   11  15  r \n",
       "16 ford         f150 pickup 4wd 5.4   2008 8   auto(l4)   4   13  17  r \n",
       "17 ford         mustang         3.8   1999 6   manual(m5) r   18  26  r \n",
       "18 ford         mustang         3.8   1999 6   auto(l4)   r   18  25  r \n",
       "19 ford         mustang         4.0   2008 6   manual(m5) r   17  26  r \n",
       "20 ford         mustang         4.0   2008 6   auto(l5)   r   16  24  r \n",
       "21 ford         mustang         4.6   1999 8   auto(l4)   r   15  21  r \n",
       "22 ford         mustang         4.6   1999 8   manual(m5) r   15  22  r \n",
       "23 ford         mustang         4.6   2008 8   manual(m5) r   15  23  r \n",
       "24 ford         mustang         4.6   2008 8   auto(l5)   r   15  22  r \n",
       "25 ford         mustang         5.4   2008 8   manual(m6) r   14  20  p \n",
       "   class     \n",
       "1  suv       \n",
       "2  suv       \n",
       "3  suv       \n",
       "4  suv       \n",
       "5  suv       \n",
       "6  suv       \n",
       "7  suv       \n",
       "8  suv       \n",
       "9  suv       \n",
       "10 pickup    \n",
       "11 pickup    \n",
       "12 pickup    \n",
       "13 pickup    \n",
       "14 pickup    \n",
       "15 pickup    \n",
       "16 pickup    \n",
       "17 subcompact\n",
       "18 subcompact\n",
       "19 subcompact\n",
       "20 subcompact\n",
       "21 subcompact\n",
       "22 subcompact\n",
       "23 subcompact\n",
       "24 subcompact\n",
       "25 subcompact"
      ]
     },
     "metadata": {},
     "output_type": "display_data"
    }
   ],
   "source": [
    "library(tidyverse)\n",
    "mpg %>% filter( manufacturer == \"ford\") "
   ]
  },
  {
   "cell_type": "markdown",
   "metadata": {},
   "source": [
    "## File input/output"
   ]
  },
  {
   "cell_type": "code",
   "execution_count": 8,
   "metadata": {},
   "outputs": [
    {
     "name": "stdout",
     "output_type": "stream",
     "text": [
      "[1] \"input :\"\n"
     ]
    },
    {
     "data": {
      "text/html": [
       "<ol class=list-inline>\n",
       "\t<li>5</li>\n",
       "\t<li>6</li>\n",
       "\t<li>7</li>\n",
       "</ol>\n"
      ],
      "text/latex": [
       "\\begin{enumerate*}\n",
       "\\item 5\n",
       "\\item 6\n",
       "\\item 7\n",
       "\\end{enumerate*}\n"
      ],
      "text/markdown": [
       "1. 5\n",
       "2. 6\n",
       "3. 7\n",
       "\n",
       "\n"
      ],
      "text/plain": [
       "[1] 5 6 7"
      ]
     },
     "metadata": {},
     "output_type": "display_data"
    },
    {
     "data": {
      "text/html": [
       "<ol class=list-inline>\n",
       "\t<li>1</li>\n",
       "\t<li>2</li>\n",
       "\t<li>3</li>\n",
       "\t<li>4</li>\n",
       "\t<li>5</li>\n",
       "\t<li>6</li>\n",
       "</ol>\n"
      ],
      "text/latex": [
       "\\begin{enumerate*}\n",
       "\\item 1\n",
       "\\item 2\n",
       "\\item 3\n",
       "\\item 4\n",
       "\\item 5\n",
       "\\item 6\n",
       "\\end{enumerate*}\n"
      ],
      "text/markdown": [
       "1. 1\n",
       "2. 2\n",
       "3. 3\n",
       "4. 4\n",
       "5. 5\n",
       "6. 6\n",
       "\n",
       "\n"
      ],
      "text/plain": [
       "[1] 1 2 3 4 5 6"
      ]
     },
     "metadata": {},
     "output_type": "display_data"
    },
    {
     "data": {
      "text/html": [
       "<ol class=list-inline>\n",
       "\t<li>-5</li>\n",
       "\t<li>-4</li>\n",
       "\t<li>-3</li>\n",
       "\t<li>-2</li>\n",
       "\t<li>-1</li>\n",
       "\t<li>0</li>\n",
       "\t<li>1</li>\n",
       "\t<li>2</li>\n",
       "</ol>\n"
      ],
      "text/latex": [
       "\\begin{enumerate*}\n",
       "\\item -5\n",
       "\\item -4\n",
       "\\item -3\n",
       "\\item -2\n",
       "\\item -1\n",
       "\\item 0\n",
       "\\item 1\n",
       "\\item 2\n",
       "\\end{enumerate*}\n"
      ],
      "text/markdown": [
       "1. -5\n",
       "2. -4\n",
       "3. -3\n",
       "4. -2\n",
       "5. -1\n",
       "6. 0\n",
       "7. 1\n",
       "8. 2\n",
       "\n",
       "\n"
      ],
      "text/plain": [
       "[1] -5 -4 -3 -2 -1  0  1  2"
      ]
     },
     "metadata": {},
     "output_type": "display_data"
    },
    {
     "name": "stdout",
     "output_type": "stream",
     "text": [
      "[1] \"output :\"\n",
      "Hello"
     ]
    }
   ],
   "source": [
    "print(\"input :\")\n",
    "z <- scan()\n",
    "5:7\n",
    "1:6\n",
    "-5: 2\n",
    "print(\"output :\")\n",
    "cat(\"Hello\")"
   ]
  },
  {
   "cell_type": "markdown",
   "metadata": {},
   "source": [
    "## Any other R feature"
   ]
  },
  {
   "cell_type": "markdown",
   "metadata": {},
   "source": [
    "# Debuging"
   ]
  }
 ],
 "metadata": {
  "kernelspec": {
   "display_name": "R",
   "language": "R",
   "name": "ir"
  },
  "language_info": {
   "codemirror_mode": "r",
   "file_extension": ".r",
   "mimetype": "text/x-r-source",
   "name": "R",
   "pygments_lexer": "r",
   "version": "3.6.1"
  },
  "toc": {
   "base_numbering": 1,
   "nav_menu": {},
   "number_sections": true,
   "sideBar": true,
   "skip_h1_title": false,
   "title_cell": "Table of Contents",
   "title_sidebar": "Contents",
   "toc_cell": false,
   "toc_position": {},
   "toc_section_display": true,
   "toc_window_display": false
  }
 },
 "nbformat": 4,
 "nbformat_minor": 4
}
