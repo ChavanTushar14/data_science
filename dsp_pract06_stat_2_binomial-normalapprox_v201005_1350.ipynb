{
 "cells": [
  {
   "cell_type": "markdown",
   "metadata": {},
   "source": [
    "# DSLab: Practical06: Statistics 2: Binomial, Normal approx"
   ]
  },
  {
   "cell_type": "markdown",
   "metadata": {},
   "source": [
    "## Instructions for Completion of THIS Practical"
   ]
  },
  {
   "cell_type": "markdown",
   "metadata": {},
   "source": [
    "# Name: Tushar Chavan\n",
    "# Batch: B2\n",
    "# Div: ME_A\n",
    "# GR No: 11910702\n",
    "# Roll no: 43"
   ]
  },
  {
   "cell_type": "markdown",
   "metadata": {},
   "source": [
    "**Instructions:**   \n",
    "Just write code in the last cell of this jupyter notebook and upload it. No other file needs to be submitted.\n",
    "\n",
    "**Note:**\n",
    "- For this practical there's no 'generation of problem statement'. Just use the pdf circulated with this file for the problem statement\n",
    "\n",
    "- Excel which has the 'travelled abroad data' is also uploaded\n",
    "\n",
    "- There are no 'GR Number-based' problems in this practical"
   ]
  },
  {
   "cell_type": "markdown",
   "metadata": {},
   "source": [
    "## Enter your information\n",
    "**Imp: Run the code cell below, after entering your information as explained there**"
   ]
  },
  {
   "cell_type": "code",
   "execution_count": 1,
   "metadata": {},
   "outputs": [
    {
     "data": {
      "text/html": [
       "'My Roll Number is: 43'"
      ],
      "text/latex": [
       "'My Roll Number is: 43'"
      ],
      "text/markdown": [
       "'My Roll Number is: 43'"
      ],
      "text/plain": [
       "[1] \"My Roll Number is: 43\""
      ]
     },
     "metadata": {},
     "output_type": "display_data"
    },
    {
     "data": {
      "text/html": [
       "<span style=white-space:pre-wrap>'My GR Number is  : 11910702'</span>"
      ],
      "text/latex": [
       "'My GR Number is  : 11910702'"
      ],
      "text/markdown": [
       "<span style=white-space:pre-wrap>'My GR Number is  : 11910702'</span>"
      ],
      "text/plain": [
       "[1] \"My GR Number is  : 11910702\""
      ]
     },
     "metadata": {},
     "output_type": "display_data"
    },
    {
     "data": {
      "text/html": [
       "<span style=white-space:pre-wrap>'Name is  : Tushar Vilas Chavan'</span>"
      ],
      "text/latex": [
       "'Name is  : Tushar Vilas Chavan'"
      ],
      "text/markdown": [
       "<span style=white-space:pre-wrap>'Name is  : Tushar Vilas Chavan'</span>"
      ],
      "text/plain": [
       "[1] \"Name is  : Tushar Vilas Chavan\""
      ]
     },
     "metadata": {},
     "output_type": "display_data"
    }
   ],
   "source": [
    "# VVIMP: Fill up & Run this code cell first before starting with later cells\n",
    "# -------------------------------\n",
    "# Start of: Write your code here\n",
    "# -------------------------------\n",
    "# Enter your roll number, gr no & name below\n",
    "# Do not change variable names\n",
    "rn <- 43 # DO NOT enter roll no with a negative sign\n",
    "grn <- 11910702 # DO NOT enter gr no with a negative sign\n",
    "my_name <- \"Tushar Vilas Chavan\"\n",
    "# -------------------------------\n",
    "# End of: Write your code here\n",
    "# -------------------------------\n",
    "sprintf(\"My Roll Number is: %s\", rn)\n",
    "sprintf(\"My GR Number is  : %s\", grn)\n",
    "sprintf(\"Name is  : %s\", my_name)"
   ]
  },
  {
   "cell_type": "markdown",
   "metadata": {},
   "source": [
    "# Problem Statement"
   ]
  },
  {
   "cell_type": "markdown",
   "metadata": {},
   "source": [
    "**Laboratory Experiment on Binomial and Normal Distribution**\n",
    "\n",
    "- **Data Source:** Travelled abroad data of 150 Records in .xlsx format    \n",
    "    Filename: travelled abroad data.xlsx\n",
    "- **Activities:**\n",
    "    1. Find out the % of Indians in the sample who have travelled abroad\n",
    "        using the data source\n",
    "    2. Treating this value as ‘p’, calculate the probabilities that in a randomly \n",
    "        chosen sample of 10 persons, exactly k persons have travelled abroad; \n",
    "        where k goes from 0 to 10\n",
    "    3. Plot the probability values as a Table / Bar graph and interpret\n",
    "    4. What is the probability that in the randomly chosen sample of 100 persons \n",
    "        at least 59 have travelled abroad?   \n",
    "        Hint: Expected to perform Normal approximation for the binary distribution."
   ]
  },
  {
   "cell_type": "markdown",
   "metadata": {
    "slideshow": {
     "slide_type": ""
    }
   },
   "source": [
    "# How to go about"
   ]
  },
  {
   "cell_type": "markdown",
   "metadata": {},
   "source": [
    "1. How to read from excel file\n",
    "\n",
    "\n",
    "```\n",
    "library(readxl)\n",
    "# Change filename as required \n",
    "df  <- read_excel(\"my_excel_file.xlsx\")```\n",
    "\n",
    "2. How to find probability that exactly k out of n people have tranvelled abroad, with p\n",
    "    being the probability of travel abroad:     \n",
    "   - Use R dbinom function as follows:\n",
    "   \n",
    "    ```\n",
    "    p_kn  <- dbinom(k, size=n, prob = p)\n",
    "    \n",
    "    ```\n",
    "    - Just print out the results using any R print statement such as print or cat.   \n",
    "        Sample code line:     \n",
    "        ```\n",
    "        cat(\"\\nProb that at least\", k, \"of\",n,\"have travelled abroad: \",p_kn)```\n",
    "3. Create a dataframe containing probability vs k:  \n",
    "    - You may put above command in a for loop or use vectorization to do this\n",
    "    - Let's suppose the dataframe is named **df_res** & has two columns, say **k and prob**\n",
    "\n",
    "\n",
    "3. How to plot \n",
    "    - Using df_res plot **prob vs k** as a bar chart:  \n",
    "        ```\n",
    "        plt1  <- ggplot(df_res)\n",
    "        plt1  <- plt1 + geom_bar(stat=\"identity\",aes(x=k,y=prob),color=\"red\",fill=\"red\",alpha=0.2)\n",
    "        ```\n",
    "        \n",
    "    - Create title, label; change X scale increment value if required   \n",
    "    \n",
    "        \n",
    "4. Normal approximation of binomial distribution\n",
    "    - If $np \\ge 10, nq \\ge 10$, binomial distribution can be approximated as normal\n",
    "        distribution. (Here $q = (1 - p)$ )    \n",
    "        Thus, the binomial distribution $X$ can be approximated as:   \n",
    "        $X \\sim N(\\mu, \\sigma^2)$ where   \n",
    "        Mean, $\\mu = np$   \n",
    "        Standard deviation, $\\sigma = \\sqrt{npq}$"
   ]
  },
  {
   "cell_type": "markdown",
   "metadata": {},
   "source": [
    "# Write your code here:"
   ]
  },
  {
   "cell_type": "code",
   "execution_count": 14,
   "metadata": {},
   "outputs": [
    {
     "data": {
      "text/html": [
       "'Solution of Q.no. 1 is as follows'"
      ],
      "text/latex": [
       "'Solution of Q.no. 1 is as follows'"
      ],
      "text/markdown": [
       "'Solution of Q.no. 1 is as follows'"
      ],
      "text/plain": [
       "[1] \"Solution of Q.no. 1 is as follows\""
      ]
     },
     "metadata": {},
     "output_type": "display_data"
    },
    {
     "name": "stdout",
     "output_type": "stream",
     "text": [
      "\n",
      " Percentage of persons have travelled abroad in the dataset is :  56"
     ]
    },
    {
     "data": {
      "text/html": [
       "'Solutions of Q.no. 2 are as follows'"
      ],
      "text/latex": [
       "'Solutions of Q.no. 2 are as follows'"
      ],
      "text/markdown": [
       "'Solutions of Q.no. 2 are as follows'"
      ],
      "text/plain": [
       "[1] \"Solutions of Q.no. 2 are as follows\""
      ]
     },
     "metadata": {},
     "output_type": "display_data"
    },
    {
     "name": "stdout",
     "output_type": "stream",
     "text": [
      "\n",
      "Prob that exact 0 of 10 have travelled abroad:  0.0002719736\n",
      "Prob that at exact 1 of 10 have travelled abroad:  0.003461482\n",
      "Prob that at exact 2 of 10 have travelled abroad:  0.01982485\n",
      "Prob that at exact 3 of 10 have travelled abroad:  0.06728435\n",
      "Prob that at exact 4 of 10 have travelled abroad:  0.1498606\n",
      "Prob that at exact 5 of 10 have travelled abroad:  0.228878\n",
      "Prob that at exact 6 of 10 have travelled abroad:  0.2427494\n",
      "Prob that at exact 7 of 10 have travelled abroad:  0.176545\n",
      "Prob that at exact 8 of 10 have travelled abroad:  0.08426012\n",
      "Prob that at exact 9 of 10 have travelled abroad:  0.02383115\n",
      "Prob that at exact 10 of 10 have travelled abroad:  0.003033055"
     ]
    },
    {
     "data": {
      "text/html": [
       "'Solution of Q.no. 4 are as follows (all are valid)'"
      ],
      "text/latex": [
       "'Solution of Q.no. 4 are as follows (all are valid)'"
      ],
      "text/markdown": [
       "'Solution of Q.no. 4 are as follows (all are valid)'"
      ],
      "text/plain": [
       "[1] \"Solution of Q.no. 4 are as follows (all are valid)\""
      ]
     },
     "metadata": {},
     "output_type": "display_data"
    },
    {
     "name": "stdout",
     "output_type": "stream",
     "text": [
      "\n",
      " i) The Probabilty that in the randomly chosen sample of 100 persons\n",
      "at least 59 have travelled abroad is: 0.3084356 by suming individual probabilities form 59 to 100 \n",
      " ii) The Probabilty that in the randomly chosen sample of 100 persons\n",
      "at least 59 have travelled abroad is: 0.3084356 by using pbinom\n",
      " iii) The Probabilty that in the randomly chosen sample of 100 persons\n",
      "at least 59 have travelled abroad is: 0.2727998 by using pnorm"
     ]
    },
    {
     "data": {
      "text/html": [
       "'Solution of Q.no. 3 is as follows'"
      ],
      "text/latex": [
       "'Solution of Q.no. 3 is as follows'"
      ],
      "text/markdown": [
       "'Solution of Q.no. 3 is as follows'"
      ],
      "text/plain": [
       "[1] \"Solution of Q.no. 3 is as follows\""
      ]
     },
     "metadata": {},
     "output_type": "display_data"
    },
    {
     "data": {
      "image/png": "[encoded data removed]",
      "text/plain": [
       "plot without title"
      ]
     },
     "metadata": {},
     "output_type": "display_data"
    }
   ],
   "source": [
    "# -------------------------------\n",
    "# Start of: Write your code here\n",
    "# -------------------------------\n",
    "library(readxl)\n",
    "library(tidyverse)\n",
    "\n",
    "df <- read_excel(\"travelled_data.xlsx\")\n",
    "que_one <- filter(df, Travelled_abroad == \"Y\")\n",
    "##############################\n",
    "per_abroad <- (nrow(que_one)/nrow(df))*100\n",
    "sprintf(\"Solution of Q.no. 1 is as follows\")\n",
    "cat(\"\\n Percentage of persons have travelled abroad in the dataset is : \",per_abroad)\n",
    "# Percentage person abroad\n",
    "\n",
    "############################################\n",
    "sprintf(\"Solutions of Q.no. 2 are as follows\")\n",
    "p_kn <- dbinom(0,size=10,prob=0.56)  # Q2 a)\n",
    "cat(\"\\nProb that exact\", 0, \"of\",10,\"have travelled abroad: \",p_kn)\n",
    "##########################################\n",
    "############################################\n",
    "p_kn <- dbinom(1,size=10,prob=0.56)  # Q2 b)\n",
    "cat(\"\\nProb that at exact\", 1, \"of\",10,\"have travelled abroad: \",p_kn)\n",
    "##########################################\n",
    "############################################\n",
    "p_kn <- dbinom(2,size=10,prob=0.56)  # Q2 c)\n",
    "cat(\"\\nProb that at exact\", 2, \"of\",10,\"have travelled abroad: \",p_kn)\n",
    "##########################################\n",
    "############################################\n",
    "p_kn <- dbinom(3,size=10,prob=0.56)  # Q2 d)\n",
    "cat(\"\\nProb that at exact\", 3, \"of\",10,\"have travelled abroad: \",p_kn)\n",
    "##########################################\n",
    "############################################\n",
    "p_kn <- dbinom(4,size=10,prob=0.56)  # Q2 e)\n",
    "cat(\"\\nProb that at exact\", 4, \"of\",10,\"have travelled abroad: \",p_kn)\n",
    "##########################################\n",
    "############################################\n",
    "p_kn <- dbinom(5,size=10,prob=0.56)  # Q2 f)\n",
    "cat(\"\\nProb that at exact\", 5, \"of\",10,\"have travelled abroad: \",p_kn)\n",
    "###############6##########################g############################################\n",
    "p_kn <- dbinom(6,size=10,prob=0.56)  # Q2 g)\n",
    "cat(\"\\nProb that at exact\", 6, \"of\",10,\"have travelled abroad: \",p_kn)\n",
    "##########################################\n",
    "############################################\n",
    "p_kn <- dbinom(7,size=10,prob=0.56)  # Q2 h)\n",
    "cat(\"\\nProb that at exact\", 7, \"of\",10,\"have travelled abroad: \",p_kn)\n",
    "###############8############7#############i############################################\n",
    "p_kn <- dbinom(8,size=10,prob=0.56)  # Q2 i)\n",
    "cat(\"\\nProb that at exact\", 8, \"of\",10,\"have travelled abroad: \",p_kn)\n",
    "################################################################\n",
    "p_kn <- dbinom(9,size=10,prob=0.56)\n",
    "cat(\"\\nProb that at exact\", 9, \"of\",10,\"have travelled abroad: \",p_kn)\n",
    "###############################################################################\n",
    "p_kn <- dbinom(10,size=10,prob=0.56) # Q2 j)\n",
    "cat(\"\\nProb that at exact\", 10, \"of\",10,\"have travelled abroad: \",p_kn)\n",
    "#################################################################################################\n",
    "# Code for Graph Q3)\n",
    "\n",
    "\n",
    "df_res <- data.frame(K=c(0,1,2,3,4,5,6,7,8,9,10) , Prob=c(0.0002719736,0.003461482,0.01982485,0.06728435,0.1498606,0.228878,0.2427494,0.176545,0.08426012,0.02383115,0.003033055))\n",
    "library(repr);options(repr.plot.height=10,repr.plot.width=10)\n",
    "ggplot(data=df_res)+geom_bar(stat=\"Identity\",aes(x=K,y=Prob),color=\"red\",fill=\"red\", alpha=0.2)+labs(title=\"Probability vs. K Graph\", x=\"Values of K from 0 to 10\", y=\"Estimated Probability(rounded to 3 significant figures)\",subtitle=\"Bar Graph of Probability of K persons travelled abroad taken from Dataset of 150 persons taking a sample of 10 persons\")\n",
    "\n",
    "####################################################################################################\n",
    "\n",
    "# Code for Normal Distribution of Binomial Distribution Q4\n",
    "##############Solution 1#############\n",
    "k <- seq(59,100,by=1)  \n",
    "\n",
    "sum=0\n",
    "for (i in k) {\n",
    "     p = dbinom(i,size=100,prob=0.56)\n",
    "     sum=sum+p\n",
    "}\n",
    "sprintf(\"Solution of Q.no. 4 are as follows (all are valid)\")\n",
    "cat(\"\\n i) The Probabilty that in the randomly chosen sample of 100 persons\n",
    "at least 59 have travelled abroad is:\",sum,\"by suming individual probabilities form 59 to 100 \")\n",
    "#########################################\n",
    "\n",
    "##########Solution 2 #############\n",
    "#Using Binomial Function\n",
    "p <- pbinom(100,100,0.56)-pbinom(58,100,0.56)\n",
    "cat(\"\\n ii) The Probabilty that in the randomly chosen sample of 100 persons\n",
    "at least 59 have travelled abroad is:\",p,\"by using pbinom\")\n",
    "##################################\n",
    "\n",
    "###########Solution 3 ########\n",
    "c <- 1 -pnorm(59,56,sqrt(100*0.56*0.44))\n",
    "cat(\"\\n iii) The Probabilty that in the randomly chosen sample of 100 persons\n",
    "at least 59 have travelled abroad is:\",c,\"by using pnorm\")\n",
    "\n",
    "sprintf(\"Solution of Q.no. 3 is as follows\")\n",
    "\n",
    "##############################\n",
    "\n",
    "\n",
    "####################################################################################################\n",
    "# -------------------------------\n",
    "# End of: Write your code here\n",
    "# -------------------------------3"
   ]
  }
 ],
 "metadata": {
  "celltoolbar": "Edit Metadata",
  "kernelspec": {
   "display_name": "R",
   "language": "R",
   "name": "ir"
  },
  "language_info": {
   "codemirror_mode": "r",
   "file_extension": ".r",
   "mimetype": "text/x-r-source",
   "name": "R",
   "pygments_lexer": "r",
   "version": "3.6.1"
  },
  "toc": {
   "base_numbering": 1,
   "nav_menu": {},
   "number_sections": true,
   "sideBar": true,
   "skip_h1_title": true,
   "title_cell": "Table of Contents",
   "title_sidebar": "Contents",
   "toc_cell": false,
   "toc_position": {},
   "toc_section_display": true,
   "toc_window_display": false
  }
 },
 "nbformat": 4,
 "nbformat_minor": 4
}
